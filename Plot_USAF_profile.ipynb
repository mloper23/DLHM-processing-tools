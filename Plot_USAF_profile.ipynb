{
 "cells": [
  {
   "cell_type": "code",
   "execution_count": 1,
   "metadata": {},
   "outputs": [],
   "source": [
    "import pyLHM.myfunctions as LHM\n",
    "from skimage.restoration import denoise_nl_means, estimate_sigma\n",
    "import numpy as np\n",
    "import matplotlib.pyplot as plt\n",
    "import plotly.graph_objects as go\n",
    "import plotly.express as px\n",
    "import imageio as io\n",
    "import time\n",
    "import cv2\n",
    "import os\n",
    "import pandas as pd\n",
    "from scipy.interpolate import interp1d\n",
    "from PIL import Image\n",
    "\n",
    "def get_files_in_folder(folder_path):\n",
    "    files = []\n",
    "    for root, dirs, filenames in os.walk(folder_path):\n",
    "        for file_name in filenames:\n",
    "            files.append(os.path.join(root, file_name))\n",
    "    return files\n",
    "\n",
    "def hex_rgba(hex, transparency):\n",
    "    col_hex = hex.lstrip('#')\n",
    "    col_rgb = list(int(col_hex[i:i+2], 16) for i in (0, 2, 4))\n",
    "    col_rgb.extend([transparency])\n",
    "    areacol = tuple(col_rgb)\n",
    "    return areacol\n",
    "\n",
    "color_palette =['#000000',\n",
    "               '#CEE719',\n",
    "               '#4D94AD',\n",
    "               '#E69FFF']\n",
    "\n",
    "rgba = ['rgba'+str(hex_rgba(c, transparency=0.7)) for c in color_palette]"
   ]
  },
  {
   "cell_type": "code",
   "execution_count": 2,
   "metadata": {},
   "outputs": [],
   "source": [
    "sample_path = r\"C:\\Users\\tom_p\\OneDrive - Universidad EAFIT\\Semestre X\\TDG\\Images\\Samples\\USAF-sampled.png\"\n",
    "sample = LHM.open_image(sample_path)\n",
    "profile_sample = 1-sample[393:561,494]\n",
    "profile_sample = np.insert(profile_sample,0,0)\n",
    "max_px=len(profile_sample)\n",
    "x = [i for i in range(len(profile_sample))]\n",
    "x = [7.32e-4 *(i) for i in range(max_px)]\n"
   ]
  },
  {
   "cell_type": "code",
   "execution_count": 3,
   "metadata": {},
   "outputs": [
    {
     "data": {
      "application/vnd.plotly.v1+json": {
       "config": {
        "plotlyServerURL": "https://plot.ly"
       },
       "data": [
        {
         "hovertemplate": "variable=Sample<br>x=%{x}<br>value=%{y}<extra></extra>",
         "legendgroup": "Sample",
         "line": {
          "color": "rgba(77, 148, 173, 0.7)",
          "dash": "solid"
         },
         "marker": {
          "symbol": "circle"
         },
         "mode": "lines",
         "name": "Sample",
         "orientation": "v",
         "showlegend": true,
         "type": "scatter",
         "x": [
          0,
          0.000732,
          0.001464,
          0.002196,
          0.002928,
          0.00366,
          0.004392,
          0.005124,
          0.005856,
          0.006588,
          0.00732,
          0.008052,
          0.008784,
          0.009516,
          0.010248,
          0.01098,
          0.011712,
          0.012444,
          0.013176,
          0.013908,
          0.01464,
          0.015372,
          0.016104,
          0.016836,
          0.017568,
          0.0183,
          0.019032,
          0.019764,
          0.020496,
          0.021228,
          0.02196,
          0.022692,
          0.023424,
          0.024156,
          0.024888,
          0.02562,
          0.026352,
          0.027084,
          0.027816,
          0.028548,
          0.02928,
          0.030012,
          0.030744,
          0.031476000000000004,
          0.032208,
          0.03294,
          0.033672,
          0.034404000000000004,
          0.035136,
          0.035868,
          0.0366,
          0.037332000000000004,
          0.038064,
          0.038796,
          0.039528,
          0.040260000000000004,
          0.040992,
          0.041724,
          0.042456,
          0.043188000000000004,
          0.04392,
          0.044652,
          0.045384,
          0.046116000000000004,
          0.046848,
          0.04758,
          0.048312,
          0.049044000000000004,
          0.049776,
          0.050508,
          0.05124,
          0.051972000000000004,
          0.052704,
          0.053436,
          0.054168,
          0.054900000000000004,
          0.055632,
          0.056364,
          0.057096,
          0.057828000000000004,
          0.05856,
          0.059292,
          0.060024,
          0.060756000000000004,
          0.061488,
          0.06222,
          0.06295200000000001,
          0.063684,
          0.064416,
          0.065148,
          0.06588,
          0.066612,
          0.067344,
          0.068076,
          0.06880800000000001,
          0.06954,
          0.070272,
          0.071004,
          0.071736,
          0.072468,
          0.0732,
          0.073932,
          0.07466400000000001,
          0.075396,
          0.076128,
          0.07686,
          0.077592,
          0.078324,
          0.079056,
          0.079788,
          0.08052000000000001,
          0.081252,
          0.081984,
          0.082716,
          0.083448,
          0.08418,
          0.084912,
          0.085644,
          0.08637600000000001,
          0.087108,
          0.08784,
          0.088572,
          0.089304,
          0.090036,
          0.090768,
          0.0915,
          0.09223200000000001,
          0.092964,
          0.093696,
          0.094428,
          0.09516,
          0.095892,
          0.096624,
          0.097356,
          0.09808800000000001,
          0.09882,
          0.099552,
          0.100284,
          0.101016,
          0.101748,
          0.10248,
          0.103212,
          0.10394400000000001,
          0.104676,
          0.105408,
          0.10614,
          0.106872,
          0.107604,
          0.108336,
          0.109068,
          0.10980000000000001,
          0.110532,
          0.111264,
          0.111996,
          0.112728,
          0.11346,
          0.114192,
          0.114924,
          0.11565600000000001,
          0.116388,
          0.11712,
          0.117852,
          0.118584,
          0.119316,
          0.120048,
          0.12078,
          0.12151200000000001,
          0.122244,
          0.122976
         ],
         "xaxis": "x",
         "y": [
          0,
          1,
          1,
          1,
          1,
          1,
          0.0039215686274509665,
          0.0039215686274509665,
          0.0039215686274509665,
          0.0039215686274509665,
          0.0039215686274509665,
          0.0039215686274509665,
          1,
          1,
          1,
          1,
          1,
          1,
          0.0039215686274509665,
          0.0039215686274509665,
          0.0039215686274509665,
          0.0039215686274509665,
          0.0039215686274509665,
          0.0039215686274509665,
          1,
          1,
          1,
          1,
          1,
          1,
          0.0039215686274509665,
          0.0039215686274509665,
          0.0039215686274509665,
          0.0039215686274509665,
          0.0039215686274509665,
          0.0039215686274509665,
          0.0039215686274509665,
          0.0039215686274509665,
          0.0039215686274509665,
          0.0039215686274509665,
          0.0039215686274509665,
          1,
          1,
          1,
          1,
          1,
          0.0039215686274509665,
          0.0039215686274509665,
          0.0039215686274509665,
          0.0039215686274509665,
          0.0039215686274509665,
          1,
          1,
          1,
          1,
          1,
          0.0039215686274509665,
          0.0039215686274509665,
          0.0039215686274509665,
          0.0039215686274509665,
          0.0039215686274509665,
          1,
          1,
          1,
          1,
          1,
          0.0039215686274509665,
          0.0039215686274509665,
          0.0039215686274509665,
          0.0039215686274509665,
          0.0039215686274509665,
          0.0039215686274509665,
          0.0039215686274509665,
          0.0039215686274509665,
          0.0039215686274509665,
          0.0039215686274509665,
          1,
          1,
          1,
          1,
          0.0039215686274509665,
          0.0039215686274509665,
          0.0039215686274509665,
          0.0039215686274509665,
          1,
          1,
          1,
          1,
          0.0039215686274509665,
          0.0039215686274509665,
          0.0039215686274509665,
          0.0039215686274509665,
          1,
          1,
          1,
          1,
          0.0039215686274509665,
          0.0039215686274509665,
          0.0039215686274509665,
          0.0039215686274509665,
          0.0039215686274509665,
          0.0039215686274509665,
          0.0039215686274509665,
          0.0039215686274509665,
          0.0039215686274509665,
          0.0039215686274509665,
          0.0039215686274509665,
          0.0039215686274509665,
          0.0039215686274509665,
          0.0039215686274509665,
          0.0039215686274509665,
          0.0039215686274509665,
          1,
          1,
          1,
          0.0039215686274509665,
          0.0039215686274509665,
          0.0039215686274509665,
          1,
          1,
          1,
          0.0039215686274509665,
          0.0039215686274509665,
          0.0039215686274509665,
          1,
          1,
          1,
          0.0039215686274509665,
          0.0039215686274509665,
          0.0039215686274509665,
          0.0039215686274509665,
          0.0039215686274509665,
          0.0039215686274509665,
          0.0039215686274509665,
          0.0039215686274509665,
          0.0039215686274509665,
          0.0039215686274509665,
          0.0039215686274509665,
          0.0039215686274509665,
          0.0039215686274509665,
          0.0039215686274509665,
          1,
          1,
          0.0039215686274509665,
          0.0039215686274509665,
          1,
          1,
          0.0039215686274509665,
          0.0039215686274509665,
          1,
          1,
          0.0039215686274509665,
          0.0039215686274509665,
          0.0039215686274509665,
          0.0039215686274509665,
          0.0039215686274509665,
          0.0039215686274509665,
          0.0039215686274509665,
          0.0039215686274509665,
          0.0039215686274509665,
          0.0039215686274509665,
          0.0039215686274509665,
          0.0039215686274509665,
          0.0039215686274509665,
          1,
          0.0039215686274509665,
          1,
          0.0039215686274509665,
          1
         ],
         "yaxis": "y"
        }
       ],
       "layout": {
        "legend": {
         "title": {
          "text": "variable"
         },
         "tracegroupgap": 0
        },
        "template": {
         "data": {
          "bar": [
           {
            "error_x": {
             "color": "#2a3f5f"
            },
            "error_y": {
             "color": "#2a3f5f"
            },
            "marker": {
             "line": {
              "color": "#E5ECF6",
              "width": 0.5
             },
             "pattern": {
              "fillmode": "overlay",
              "size": 10,
              "solidity": 0.2
             }
            },
            "type": "bar"
           }
          ],
          "barpolar": [
           {
            "marker": {
             "line": {
              "color": "#E5ECF6",
              "width": 0.5
             },
             "pattern": {
              "fillmode": "overlay",
              "size": 10,
              "solidity": 0.2
             }
            },
            "type": "barpolar"
           }
          ],
          "carpet": [
           {
            "aaxis": {
             "endlinecolor": "#2a3f5f",
             "gridcolor": "white",
             "linecolor": "white",
             "minorgridcolor": "white",
             "startlinecolor": "#2a3f5f"
            },
            "baxis": {
             "endlinecolor": "#2a3f5f",
             "gridcolor": "white",
             "linecolor": "white",
             "minorgridcolor": "white",
             "startlinecolor": "#2a3f5f"
            },
            "type": "carpet"
           }
          ],
          "choropleth": [
           {
            "colorbar": {
             "outlinewidth": 0,
             "ticks": ""
            },
            "type": "choropleth"
           }
          ],
          "contour": [
           {
            "colorbar": {
             "outlinewidth": 0,
             "ticks": ""
            },
            "colorscale": [
             [
              0,
              "#0d0887"
             ],
             [
              0.1111111111111111,
              "#46039f"
             ],
             [
              0.2222222222222222,
              "#7201a8"
             ],
             [
              0.3333333333333333,
              "#9c179e"
             ],
             [
              0.4444444444444444,
              "#bd3786"
             ],
             [
              0.5555555555555556,
              "#d8576b"
             ],
             [
              0.6666666666666666,
              "#ed7953"
             ],
             [
              0.7777777777777778,
              "#fb9f3a"
             ],
             [
              0.8888888888888888,
              "#fdca26"
             ],
             [
              1,
              "#f0f921"
             ]
            ],
            "type": "contour"
           }
          ],
          "contourcarpet": [
           {
            "colorbar": {
             "outlinewidth": 0,
             "ticks": ""
            },
            "type": "contourcarpet"
           }
          ],
          "heatmap": [
           {
            "colorbar": {
             "outlinewidth": 0,
             "ticks": ""
            },
            "colorscale": [
             [
              0,
              "#0d0887"
             ],
             [
              0.1111111111111111,
              "#46039f"
             ],
             [
              0.2222222222222222,
              "#7201a8"
             ],
             [
              0.3333333333333333,
              "#9c179e"
             ],
             [
              0.4444444444444444,
              "#bd3786"
             ],
             [
              0.5555555555555556,
              "#d8576b"
             ],
             [
              0.6666666666666666,
              "#ed7953"
             ],
             [
              0.7777777777777778,
              "#fb9f3a"
             ],
             [
              0.8888888888888888,
              "#fdca26"
             ],
             [
              1,
              "#f0f921"
             ]
            ],
            "type": "heatmap"
           }
          ],
          "heatmapgl": [
           {
            "colorbar": {
             "outlinewidth": 0,
             "ticks": ""
            },
            "colorscale": [
             [
              0,
              "#0d0887"
             ],
             [
              0.1111111111111111,
              "#46039f"
             ],
             [
              0.2222222222222222,
              "#7201a8"
             ],
             [
              0.3333333333333333,
              "#9c179e"
             ],
             [
              0.4444444444444444,
              "#bd3786"
             ],
             [
              0.5555555555555556,
              "#d8576b"
             ],
             [
              0.6666666666666666,
              "#ed7953"
             ],
             [
              0.7777777777777778,
              "#fb9f3a"
             ],
             [
              0.8888888888888888,
              "#fdca26"
             ],
             [
              1,
              "#f0f921"
             ]
            ],
            "type": "heatmapgl"
           }
          ],
          "histogram": [
           {
            "marker": {
             "pattern": {
              "fillmode": "overlay",
              "size": 10,
              "solidity": 0.2
             }
            },
            "type": "histogram"
           }
          ],
          "histogram2d": [
           {
            "colorbar": {
             "outlinewidth": 0,
             "ticks": ""
            },
            "colorscale": [
             [
              0,
              "#0d0887"
             ],
             [
              0.1111111111111111,
              "#46039f"
             ],
             [
              0.2222222222222222,
              "#7201a8"
             ],
             [
              0.3333333333333333,
              "#9c179e"
             ],
             [
              0.4444444444444444,
              "#bd3786"
             ],
             [
              0.5555555555555556,
              "#d8576b"
             ],
             [
              0.6666666666666666,
              "#ed7953"
             ],
             [
              0.7777777777777778,
              "#fb9f3a"
             ],
             [
              0.8888888888888888,
              "#fdca26"
             ],
             [
              1,
              "#f0f921"
             ]
            ],
            "type": "histogram2d"
           }
          ],
          "histogram2dcontour": [
           {
            "colorbar": {
             "outlinewidth": 0,
             "ticks": ""
            },
            "colorscale": [
             [
              0,
              "#0d0887"
             ],
             [
              0.1111111111111111,
              "#46039f"
             ],
             [
              0.2222222222222222,
              "#7201a8"
             ],
             [
              0.3333333333333333,
              "#9c179e"
             ],
             [
              0.4444444444444444,
              "#bd3786"
             ],
             [
              0.5555555555555556,
              "#d8576b"
             ],
             [
              0.6666666666666666,
              "#ed7953"
             ],
             [
              0.7777777777777778,
              "#fb9f3a"
             ],
             [
              0.8888888888888888,
              "#fdca26"
             ],
             [
              1,
              "#f0f921"
             ]
            ],
            "type": "histogram2dcontour"
           }
          ],
          "mesh3d": [
           {
            "colorbar": {
             "outlinewidth": 0,
             "ticks": ""
            },
            "type": "mesh3d"
           }
          ],
          "parcoords": [
           {
            "line": {
             "colorbar": {
              "outlinewidth": 0,
              "ticks": ""
             }
            },
            "type": "parcoords"
           }
          ],
          "pie": [
           {
            "automargin": true,
            "type": "pie"
           }
          ],
          "scatter": [
           {
            "fillpattern": {
             "fillmode": "overlay",
             "size": 10,
             "solidity": 0.2
            },
            "type": "scatter"
           }
          ],
          "scatter3d": [
           {
            "line": {
             "colorbar": {
              "outlinewidth": 0,
              "ticks": ""
             }
            },
            "marker": {
             "colorbar": {
              "outlinewidth": 0,
              "ticks": ""
             }
            },
            "type": "scatter3d"
           }
          ],
          "scattercarpet": [
           {
            "marker": {
             "colorbar": {
              "outlinewidth": 0,
              "ticks": ""
             }
            },
            "type": "scattercarpet"
           }
          ],
          "scattergeo": [
           {
            "marker": {
             "colorbar": {
              "outlinewidth": 0,
              "ticks": ""
             }
            },
            "type": "scattergeo"
           }
          ],
          "scattergl": [
           {
            "marker": {
             "colorbar": {
              "outlinewidth": 0,
              "ticks": ""
             }
            },
            "type": "scattergl"
           }
          ],
          "scattermapbox": [
           {
            "marker": {
             "colorbar": {
              "outlinewidth": 0,
              "ticks": ""
             }
            },
            "type": "scattermapbox"
           }
          ],
          "scatterpolar": [
           {
            "marker": {
             "colorbar": {
              "outlinewidth": 0,
              "ticks": ""
             }
            },
            "type": "scatterpolar"
           }
          ],
          "scatterpolargl": [
           {
            "marker": {
             "colorbar": {
              "outlinewidth": 0,
              "ticks": ""
             }
            },
            "type": "scatterpolargl"
           }
          ],
          "scatterternary": [
           {
            "marker": {
             "colorbar": {
              "outlinewidth": 0,
              "ticks": ""
             }
            },
            "type": "scatterternary"
           }
          ],
          "surface": [
           {
            "colorbar": {
             "outlinewidth": 0,
             "ticks": ""
            },
            "colorscale": [
             [
              0,
              "#0d0887"
             ],
             [
              0.1111111111111111,
              "#46039f"
             ],
             [
              0.2222222222222222,
              "#7201a8"
             ],
             [
              0.3333333333333333,
              "#9c179e"
             ],
             [
              0.4444444444444444,
              "#bd3786"
             ],
             [
              0.5555555555555556,
              "#d8576b"
             ],
             [
              0.6666666666666666,
              "#ed7953"
             ],
             [
              0.7777777777777778,
              "#fb9f3a"
             ],
             [
              0.8888888888888888,
              "#fdca26"
             ],
             [
              1,
              "#f0f921"
             ]
            ],
            "type": "surface"
           }
          ],
          "table": [
           {
            "cells": {
             "fill": {
              "color": "#EBF0F8"
             },
             "line": {
              "color": "white"
             }
            },
            "header": {
             "fill": {
              "color": "#C8D4E3"
             },
             "line": {
              "color": "white"
             }
            },
            "type": "table"
           }
          ]
         },
         "layout": {
          "annotationdefaults": {
           "arrowcolor": "#2a3f5f",
           "arrowhead": 0,
           "arrowwidth": 1
          },
          "autotypenumbers": "strict",
          "coloraxis": {
           "colorbar": {
            "outlinewidth": 0,
            "ticks": ""
           }
          },
          "colorscale": {
           "diverging": [
            [
             0,
             "#8e0152"
            ],
            [
             0.1,
             "#c51b7d"
            ],
            [
             0.2,
             "#de77ae"
            ],
            [
             0.3,
             "#f1b6da"
            ],
            [
             0.4,
             "#fde0ef"
            ],
            [
             0.5,
             "#f7f7f7"
            ],
            [
             0.6,
             "#e6f5d0"
            ],
            [
             0.7,
             "#b8e186"
            ],
            [
             0.8,
             "#7fbc41"
            ],
            [
             0.9,
             "#4d9221"
            ],
            [
             1,
             "#276419"
            ]
           ],
           "sequential": [
            [
             0,
             "#0d0887"
            ],
            [
             0.1111111111111111,
             "#46039f"
            ],
            [
             0.2222222222222222,
             "#7201a8"
            ],
            [
             0.3333333333333333,
             "#9c179e"
            ],
            [
             0.4444444444444444,
             "#bd3786"
            ],
            [
             0.5555555555555556,
             "#d8576b"
            ],
            [
             0.6666666666666666,
             "#ed7953"
            ],
            [
             0.7777777777777778,
             "#fb9f3a"
            ],
            [
             0.8888888888888888,
             "#fdca26"
            ],
            [
             1,
             "#f0f921"
            ]
           ],
           "sequentialminus": [
            [
             0,
             "#0d0887"
            ],
            [
             0.1111111111111111,
             "#46039f"
            ],
            [
             0.2222222222222222,
             "#7201a8"
            ],
            [
             0.3333333333333333,
             "#9c179e"
            ],
            [
             0.4444444444444444,
             "#bd3786"
            ],
            [
             0.5555555555555556,
             "#d8576b"
            ],
            [
             0.6666666666666666,
             "#ed7953"
            ],
            [
             0.7777777777777778,
             "#fb9f3a"
            ],
            [
             0.8888888888888888,
             "#fdca26"
            ],
            [
             1,
             "#f0f921"
            ]
           ]
          },
          "colorway": [
           "#636efa",
           "#EF553B",
           "#00cc96",
           "#ab63fa",
           "#FFA15A",
           "#19d3f3",
           "#FF6692",
           "#B6E880",
           "#FF97FF",
           "#FECB52"
          ],
          "font": {
           "color": "#2a3f5f"
          },
          "geo": {
           "bgcolor": "white",
           "lakecolor": "white",
           "landcolor": "#E5ECF6",
           "showlakes": true,
           "showland": true,
           "subunitcolor": "white"
          },
          "hoverlabel": {
           "align": "left"
          },
          "hovermode": "closest",
          "mapbox": {
           "style": "light"
          },
          "paper_bgcolor": "white",
          "plot_bgcolor": "#E5ECF6",
          "polar": {
           "angularaxis": {
            "gridcolor": "white",
            "linecolor": "white",
            "ticks": ""
           },
           "bgcolor": "#E5ECF6",
           "radialaxis": {
            "gridcolor": "white",
            "linecolor": "white",
            "ticks": ""
           }
          },
          "scene": {
           "xaxis": {
            "backgroundcolor": "#E5ECF6",
            "gridcolor": "white",
            "gridwidth": 2,
            "linecolor": "white",
            "showbackground": true,
            "ticks": "",
            "zerolinecolor": "white"
           },
           "yaxis": {
            "backgroundcolor": "#E5ECF6",
            "gridcolor": "white",
            "gridwidth": 2,
            "linecolor": "white",
            "showbackground": true,
            "ticks": "",
            "zerolinecolor": "white"
           },
           "zaxis": {
            "backgroundcolor": "#E5ECF6",
            "gridcolor": "white",
            "gridwidth": 2,
            "linecolor": "white",
            "showbackground": true,
            "ticks": "",
            "zerolinecolor": "white"
           }
          },
          "shapedefaults": {
           "line": {
            "color": "#2a3f5f"
           }
          },
          "ternary": {
           "aaxis": {
            "gridcolor": "white",
            "linecolor": "white",
            "ticks": ""
           },
           "baxis": {
            "gridcolor": "white",
            "linecolor": "white",
            "ticks": ""
           },
           "bgcolor": "#E5ECF6",
           "caxis": {
            "gridcolor": "white",
            "linecolor": "white",
            "ticks": ""
           }
          },
          "title": {
           "x": 0.05
          },
          "xaxis": {
           "automargin": true,
           "gridcolor": "white",
           "linecolor": "white",
           "ticks": "",
           "title": {
            "standoff": 15
           },
           "zerolinecolor": "white",
           "zerolinewidth": 2
          },
          "yaxis": {
           "automargin": true,
           "gridcolor": "white",
           "linecolor": "white",
           "ticks": "",
           "title": {
            "standoff": 15
           },
           "zerolinecolor": "white",
           "zerolinewidth": 2
          }
         }
        },
        "title": {
         "text": "USAF sample profile"
        },
        "xaxis": {
         "anchor": "y",
         "domain": [
          0,
          1
         ],
         "title": {
          "text": "x"
         }
        },
        "yaxis": {
         "anchor": "x",
         "domain": [
          0,
          1
         ],
         "title": {
          "text": "value"
         }
        }
       }
      }
     },
     "metadata": {},
     "output_type": "display_data"
    }
   ],
   "source": [
    "df = pd.DataFrame({\n",
    "    'x':x,\n",
    "    'Sample':profile_sample,\n",
    "})\n",
    "\n",
    "fig = px.line(df, x='x', y=['Sample'], title='USAF sample profile')\n",
    "fig.update_traces(line=dict(color=rgba[2]), selector=dict(mode='lines', name='Sample'))\n"
   ]
  },
  {
   "cell_type": "code",
   "execution_count": 5,
   "metadata": {},
   "outputs": [],
   "source": [
    "fig.update_xaxes(title_text= 'y [mm]',linecolor='black',gridcolor='lightgrey',mirror=True)\n",
    "fig.update_yaxes(title_text='Normalized Intensity',linecolor='black',gridcolor='lightgrey', mirror=True)\n",
    "fig.update_layout(legend=dict(title='Reconstruction\\nmethod'), showlegend=False,plot_bgcolor='white')\n",
    "fig.update_layout(\n",
    "                title=dict(text='USAF sample profile', font=dict(size=30), yref='paper'),\n",
    "                font_family='Arial',\n",
    "                font_color=\"black\",\n",
    "                title_font_family=\"Arial\",\n",
    "                title_font_color=\"black\",\n",
    "                title_x=0.5\n",
    "                )                                 \n",
    "fig.update_layout(\n",
    "font=dict(\n",
    "    family=\"Arial\",\n",
    "    size=20,  # Set the font size here\n",
    "    color=\"black\"\n",
    ")\n",
    ")\n",
    "fig.write_html(r'C:\\Users\\tom_p\\OneDrive - Universidad EAFIT\\Semestre X\\TDG\\Images\\Graphs\\USAF_profile.html')\n",
    "fig.show()"
   ]
  }
 ],
 "metadata": {
  "kernelspec": {
   "display_name": "thesis",
   "language": "python",
   "name": "python3"
  },
  "language_info": {
   "codemirror_mode": {
    "name": "ipython",
    "version": 3
   },
   "file_extension": ".py",
   "mimetype": "text/x-python",
   "name": "python",
   "nbconvert_exporter": "python",
   "pygments_lexer": "ipython3",
   "version": "3.11.4"
  }
 },
 "nbformat": 4,
 "nbformat_minor": 2
}
